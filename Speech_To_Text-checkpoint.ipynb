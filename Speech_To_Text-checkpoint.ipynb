{
 "cells": [
  {
   "cell_type": "markdown",
   "metadata": {},
   "source": [
    "### Speech to Text through Python"
   ]
  },
  {
   "cell_type": "code",
   "execution_count": 2,
   "metadata": {},
   "outputs": [
    {
     "name": "stdout",
     "output_type": "stream",
     "text": [
      "Say Someting\n",
      "convert-:hey how are you\n"
     ]
    }
   ],
   "source": [
    "##important Library- SpeechRecognition & pyaudio\n",
    "\n",
    "import speech_recognition as sr\n",
    "r=sr.Recognizer()\n",
    "with sr.Microphone() as source:\n",
    "  print(\"Say Someting\")  \n",
    "  audio=r.listen(source)\n",
    "try:\n",
    "  print(\"convert-:\"+r.recognize_google(audio))\n",
    "except Exception:\n",
    "  print(\"Something wrong\")  "
   ]
  },
  {
   "cell_type": "markdown",
   "metadata": {},
   "source": [
    "### Voice Search"
   ]
  },
  {
   "cell_type": "code",
   "execution_count": 5,
   "metadata": {},
   "outputs": [
    {
     "name": "stdout",
     "output_type": "stream",
     "text": [
      "Speek to Search in youtube:\n",
      "Python books\n"
     ]
    }
   ],
   "source": [
    "import speech_recognition as sr\n",
    "import webbrowser as wb\n",
    "\n",
    "vr1= sr.Recognizer()\n",
    "url= 'https://www.youtube.com/results?search_query='\n",
    "\n",
    "with sr.Microphone() as source:\n",
    "    print(\"Speek to Search in youtube:\")\n",
    "    audio = vr1.listen(source)\n",
    "    \n",
    "    try:\n",
    "        get= vr1.recognize_google(audio)\n",
    "        print(get)\n",
    "        wb.get().open_new(url+get)\n",
    "    except sr.UnknownValueError:\n",
    "        print(\"Error\")\n",
    "    except sr.RequestError as e:\n",
    "        print('failed'.format(e))"
   ]
  },
  {
   "cell_type": "code",
   "execution_count": null,
   "metadata": {},
   "outputs": [],
   "source": []
  }
 ],
 "metadata": {
  "kernelspec": {
   "display_name": "Python 3",
   "language": "python",
   "name": "python3"
  },
  "language_info": {
   "codemirror_mode": {
    "name": "ipython",
    "version": 3
   },
   "file_extension": ".py",
   "mimetype": "text/x-python",
   "name": "python",
   "nbconvert_exporter": "python",
   "pygments_lexer": "ipython3",
   "version": "3.7.3"
  }
 },
 "nbformat": 4,
 "nbformat_minor": 2
}
